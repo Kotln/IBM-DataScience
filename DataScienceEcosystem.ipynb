{
 "cells": [
  {
   "cell_type": "markdown",
   "id": "d7e7166d-0e7b-4f31-95f1-ea405693a917",
   "metadata": {},
   "source": [
    "# Data Science Tools and Ecosystem"
   ]
  },
  {
   "cell_type": "markdown",
   "id": "c1546862-7fea-4a6d-a736-c50937851746",
   "metadata": {},
   "source": [
    "In this notebook, Data Science Tools and Ecosystem are summarized."
   ]
  },
  {
   "cell_type": "markdown",
   "id": "e3e36a7d-9386-4a6a-9204-4ff622359484",
   "metadata": {},
   "source": [
    "__Objectives__  \n",
    "- Python\n",
    "- R\n",
    "- SQL"
   ]
  },
  {
   "cell_type": "markdown",
   "id": "60f7d659-b226-4981-bb5f-27427a75c8d4",
   "metadata": {},
   "source": [
    "Some of the popular languages that Data Scientists use are:\n",
    "1. Python\n",
    "2. R\n",
    "3. SQL"
   ]
  },
  {
   "cell_type": "markdown",
   "id": "5b715a08-6438-40c4-b29b-2ded253c28e9",
   "metadata": {},
   "source": [
    "Some of the commonly used libraries used by Data Scientists include:\n",
    "1. NumPy\n",
    "2. Pandas\n",
    "3. SciPy\n"
   ]
  },
  {
   "cell_type": "markdown",
   "id": "48286103-e9e3-4b7e-8dc0-cb7487f1b798",
   "metadata": {},
   "source": [
    "| Data Science Tools |\n",
    "|:------------------:|\n",
    "| Jupyter Notebook |\n",
    "| RStudio | \n",
    "| VS Code |\n"
   ]
  },
  {
   "cell_type": "markdown",
   "id": "16044f02-d63f-46a2-bbbc-bbdef9238c72",
   "metadata": {},
   "source": [
    "### Below are a few examples of evaluating arithmetic expressions in Python."
   ]
  },
  {
   "cell_type": "code",
   "execution_count": 4,
   "id": "11306b92-6d14-479c-afaf-98ad0a2e7399",
   "metadata": {},
   "outputs": [
    {
     "data": {
      "text/plain": [
       "17"
      ]
     },
     "execution_count": 4,
     "metadata": {},
     "output_type": "execute_result"
    }
   ],
   "source": [
    "#This a simple arithmetic expression to mutiply then add integers\n",
    "(3*4)+5 "
   ]
  },
  {
   "cell_type": "code",
   "execution_count": 7,
   "id": "76c65b31-a761-464f-b5f6-7a1440d95b2e",
   "metadata": {},
   "outputs": [
    {
     "data": {
      "text/plain": [
       "3.3333333333333335"
      ]
     },
     "execution_count": 7,
     "metadata": {},
     "output_type": "execute_result"
    }
   ],
   "source": [
    "#This will convert 200 minutes to hours by diving by 60\n",
    "minutes = 200\n",
    "hours = minutes/60\n",
    "hours"
   ]
  },
  {
   "cell_type": "markdown",
   "id": "157b9b73-23e9-45cf-aaeb-1bb2f7630f5c",
   "metadata": {},
   "source": [
    "## Author\n",
    "Olena Kotliarenko"
   ]
  },
  {
   "cell_type": "code",
   "execution_count": null,
   "id": "76810a64-77b8-4d2f-8355-cdbcb45e3f75",
   "metadata": {},
   "outputs": [],
   "source": []
  }
 ],
 "metadata": {
  "kernelspec": {
   "display_name": "Python [conda env:base] *",
   "language": "python",
   "name": "conda-base-py"
  },
  "language_info": {
   "codemirror_mode": {
    "name": "ipython",
    "version": 3
   },
   "file_extension": ".py",
   "mimetype": "text/x-python",
   "name": "python",
   "nbconvert_exporter": "python",
   "pygments_lexer": "ipython3",
   "version": "3.13.5"
  }
 },
 "nbformat": 4,
 "nbformat_minor": 5
}
